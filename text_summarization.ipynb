{
 "cells": [
  {
   "cell_type": "code",
   "execution_count": 1,
   "metadata": {},
   "outputs": [],
   "source": [
    "import re\n",
    "import nltk"
   ]
  },
  {
   "cell_type": "code",
   "execution_count": 2,
   "metadata": {},
   "outputs": [],
   "source": [
    "text = \"\"\"Just A Rather Very Intelligent System a.k.a JARVIS is created by Tony Stark natural-language and a sophisticated artificial intelligence user interface computer system, named after Edwin Jarvis, the butler who worked for Howard Stark. Though its primary duty is to automate Stark’s Malibu estate, the lifelike program fulfills many other needs for Stark, like being an information source for him, a diagnostic tool, a consultant and a voice of reason in Stark’s life. It was also responsible to provide security for Tony Stark's Mansion and Stark Tower. After creating the Mark II armor, Stark uploaded JARVIS into all of the Iron Man Armors, as well as allowing him to interact with the other Avengers, giving them valuable information during combat. JARVIS may be the one intellect Stark feels most comfortable opening up to. JARVIS can object to Stark’s commands if necessary. JARVIS speaks with a refined British accent, and is capable of back talk, sarcasm and condescension. During the Ultron Offensive, JARVIS was destroyed by Ultron, although his remaining programming codes unknowingly continued to thwart Ultron's plans of gaining access to nuclear missiles. His remains were found by Stark, who uploaded them into a synthetic body made of vibranium and, in conjunction with Ultron's personality and an Infinity Stone. JARVIS' duties were then taken over by FRIDAY.\"\"\"\n",
    "formatted_text = re.sub('[^a-zA-Z]', ' ', text)\n",
    "formatted_text = re.sub(r'\\s+', ' ', formatted_text).lower()"
   ]
  },
  {
   "cell_type": "code",
   "execution_count": 3,
   "metadata": {},
   "outputs": [],
   "source": [
    "sentence_list = nltk.sent_tokenize(text)\n",
    "stopwords = nltk.corpus.stopwords.words('english')"
   ]
  },
  {
   "cell_type": "code",
   "execution_count": 4,
   "metadata": {},
   "outputs": [],
   "source": [
    "# Make frequency counter for words\n",
    "word_frequencies = {}\n",
    "max_frequency = 0\n",
    "words = nltk.word_tokenize(formatted_text)\n",
    "for word in words:\n",
    "    if word not in stopwords:\n",
    "        word_frequencies[word] = word_frequencies.get(word, 0) + 1\n",
    "        if word_frequencies[word] > max_frequency:\n",
    "            max_frequency = word_frequencies[word]\n",
    "\n",
    "# Normalize frequencies\n",
    "word_frequencies = {word: word_frequencies[word] / max_frequency for word in word_frequencies}"
   ]
  },
  {
   "cell_type": "code",
   "execution_count": 7,
   "metadata": {},
   "outputs": [
    {
     "name": "stdout",
     "output_type": "stream",
     "text": [
      "0 (37, 0.14250614250614246)\n",
      "Just A Rather Very Intelligent System a.k.a JARVIS is created by Tony Stark natural-language and a sophisticated artificial intelligence user interface computer system, named after Edwin Jarvis, the butler who worked for Howard Stark.\n",
      "\n",
      "1 (48, 0.10227272727272724)\n",
      "Though its primary duty is to automate Stark’s Malibu estate, the lifelike program fulfills many other needs for Stark, like being an information source for him, a diagnostic tool, a consultant and a voice of reason in Stark’s life.\n",
      "\n",
      "2 (16, 0.17045454545454544)\n",
      "It was also responsible to provide security for Tony Stark's Mansion and Stark Tower.\n",
      "\n",
      "3 (37, 0.09090909090909088)\n",
      "After creating the Mark II armor, Stark uploaded JARVIS into all of the Iron Man Armors, as well as allowing him to interact with the other Avengers, giving them valuable information during combat.\n",
      "\n",
      "4 (14, 0.1623376623376623)\n",
      "JARVIS may be the one intellect Stark feels most comfortable opening up to.\n",
      "\n",
      "5 (11, 0.18181818181818182)\n",
      "JARVIS can object to Stark’s commands if necessary.\n",
      "\n",
      "6 (19, 0.08133971291866027)\n",
      "JARVIS speaks with a refined British accent, and is capable of back talk, sarcasm and condescension.\n",
      "\n",
      "7 (30, 0.103030303030303)\n",
      "During the Ultron Offensive, JARVIS was destroyed by Ultron, although his remaining programming codes unknowingly continued to thwart Ultron's plans of gaining access to nuclear missiles.\n",
      "\n",
      "8 (30, 0.0818181818181818)\n",
      "His remains were found by Stark, who uploaded them into a synthetic body made of vibranium and, in conjunction with Ultron's personality and an Infinity Stone.\n",
      "\n",
      "9 (10, 0.1)\n",
      "JARVIS' duties were then taken over by FRIDAY.\n",
      "\n"
     ]
    }
   ],
   "source": [
    "# Compute sentence scores\n",
    "sentence_scores = {}\n",
    "for i, sentence in enumerate(sentence_list):\n",
    "    tokens = nltk.word_tokenize(sentence.lower())\n",
    "    rel_word_freq = [word_frequencies[word] for word in tokens if word in word_frequencies]\n",
    "    sentence_scores[i] = (len(tokens), sum(rel_word_freq) / len(tokens))\n",
    "    print(i, sentence_scores[i])\n",
    "    print(sentence_list[i], end=\"\\n\\n\")"
   ]
  },
  {
   "cell_type": "code",
   "execution_count": 8,
   "metadata": {},
   "outputs": [
    {
     "name": "stdout",
     "output_type": "stream",
     "text": [
      "95 226\n",
      "[(5, (11, 0.18181818181818182)), (2, (16, 0.17045454545454544)), (4, (14, 0.1623376623376623)), (0, (37, 0.14250614250614246)), (7, (30, 0.103030303030303))]\n",
      "[(0, (37, 0.14250614250614246)), (2, (16, 0.17045454545454544)), (4, (14, 0.1623376623376623)), (5, (11, 0.18181818181818182)), (7, (30, 0.103030303030303))]\n",
      "Just A Rather Very Intelligent System a.k.a JARVIS is created by Tony Stark natural-language and a sophisticated artificial intelligence user interface computer system, named after Edwin Jarvis, the butler who worked for Howard Stark.\n",
      "It was also responsible to provide security for Tony Stark's Mansion and Stark Tower.\n",
      "JARVIS may be the one intellect Stark feels most comfortable opening up to.\n",
      "JARVIS can object to Stark’s commands if necessary.\n",
      "During the Ultron Offensive, JARVIS was destroyed by Ultron, although his remaining programming codes unknowingly continued to thwart Ultron's plans of gaining access to nuclear missiles.\n"
     ]
    }
   ],
   "source": [
    "# Evaluate summary\n",
    "summary_size = 0.4\n",
    "summary_length = int(summary_size * len(words))\n",
    "ranked_score_values = sorted(sentence_scores.items(), key=lambda score: score[1][1], reverse=True)\n",
    "\n",
    "\n",
    "length = 0\n",
    "n = 0\n",
    "while length < summary_length:\n",
    "    length += ranked_score_values[i][1][0]\n",
    "    n += 1\n",
    "print(length, len(words))\n",
    "summary_sentences_ordered = sorted(ranked_score_values[:n], key=lambda item: item[0])\n",
    "print(ranked_score_values[:n])\n",
    "print(summary_sentences_ordered)\n",
    "summary = '\\n'.join([sentence_list[item[0]] for item in summary_sentences_ordered])\n",
    "print(summary)"
   ]
  },
  {
   "cell_type": "code",
   "execution_count": null,
   "metadata": {},
   "outputs": [],
   "source": []
  },
  {
   "cell_type": "code",
   "execution_count": null,
   "metadata": {},
   "outputs": [],
   "source": []
  },
  {
   "cell_type": "code",
   "execution_count": null,
   "metadata": {},
   "outputs": [],
   "source": []
  }
 ],
 "metadata": {
  "kernelspec": {
   "display_name": "Python 3",
   "language": "python",
   "name": "python3"
  },
  "language_info": {
   "codemirror_mode": {
    "name": "ipython",
    "version": 3
   },
   "file_extension": ".py",
   "mimetype": "text/x-python",
   "name": "python",
   "nbconvert_exporter": "python",
   "pygments_lexer": "ipython3",
   "version": "3.6.8"
  }
 },
 "nbformat": 4,
 "nbformat_minor": 2
}
